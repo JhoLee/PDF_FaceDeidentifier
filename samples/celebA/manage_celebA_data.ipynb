{
 "nbformat": 4,
 "nbformat_minor": 2,
 "metadata": {
  "language_info": {
   "name": "python",
   "codemirror_mode": {
    "name": "ipython",
    "version": 3
   },
   "version": "3.6.9-final"
  },
  "orig_nbformat": 2,
  "file_extension": ".py",
  "mimetype": "text/x-python",
  "name": "python",
  "npconvert_exporter": "python",
  "pygments_lexer": "ipython3",
  "version": 3,
  "kernelspec": {
   "name": "python36964bitvenvvenvcd44481adb204102a4959e3a2c6c1a6d",
   "display_name": "Python 3.6.9 64-bit ('venv': venv)"
  }
 },
 "cells": [
  {
   "cell_type": "code",
   "execution_count": 23,
   "metadata": {},
   "outputs": [],
   "source": [
    "import os\n",
    "import sys\n",
    "\n",
    "ROOT_DIR = os.path.realpath('../..')\n",
    "\n",
    "if ROOT_DIR not in sys.path:\n",
    "    sys.path.insert(0, ROOT_DIR)"
   ]
  },
  {
   "cell_type": "code",
   "execution_count": 24,
   "metadata": {},
   "outputs": [],
   "source": [
    "import os\n",
    "import random\n",
    "\n",
    "import pdfd.utils\n",
    ""
   ]
  },
  {
   "cell_type": "code",
   "execution_count": 31,
   "metadata": {},
   "outputs": [
    {
     "output_type": "stream",
     "name": "stdout",
     "text": "Originals:  3556\nMasks:  3556\n"
    }
   ],
   "source": [
    "DATASET_DIR = os.path.join(ROOT_DIR, 'dataset')\n",
    "CELEBA_DIR = os.path.join(DATASET_DIR, 'celebA')\n",
    "ORIGINAL_DIR = os.path.join(CELEBA_DIR, 'original')\n",
    "MASK_DIR = os.path.join(CELEBA_DIR, 'mask')\n",
    "\n",
    "original_list = os.listdir(ORIGINAL_DIR)\n",
    "mask_list = os.listdir(MASK_DIR)\n",
    "\n",
    "print(\"Originals: \", len(original_list))\n",
    "print(\"Masks: \", len(mask_list))"
   ]
  },
  {
   "cell_type": "code",
   "execution_count": null,
   "metadata": {},
   "outputs": [],
   "source": []
  }
 ]
}