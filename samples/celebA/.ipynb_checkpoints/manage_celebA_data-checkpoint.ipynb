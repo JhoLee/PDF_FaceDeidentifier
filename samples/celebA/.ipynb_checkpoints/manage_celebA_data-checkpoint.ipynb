{
 "cells": [
  {
   "cell_type": "code",
   "execution_count": 1,
   "metadata": {},
   "outputs": [],
   "source": [
    "import os\n",
    "import sys\n",
    "\n",
    "ROOT_DIR = os.path.realpath('../..')\n",
    "\n",
    "if ROOT_DIR not in sys.path:\n",
    "    sys.path.insert(0, ROOT_DIR)"
   ]
  },
  {
   "cell_type": "code",
   "execution_count": 2,
   "metadata": {},
   "outputs": [],
   "source": [
    "import os\n",
    "import random\n",
    "\n",
    "import pdfd.utils\n"
   ]
  },
  {
   "cell_type": "code",
   "execution_count": 52,
   "metadata": {},
   "outputs": [
    {
     "name": "stdout",
     "output_type": "stream",
     "text": [
      "Originals:  3219\n",
      "Masks:  3220\n"
     ]
    }
   ],
   "source": [
    "DATASET_DIR = os.path.join(ROOT_DIR, 'dataset')\n",
    "CELEBA_DIR = os.path.join(DATASET_DIR, 'celebA')\n",
    "\n",
    "TRAIN_DIR = os.path.join(CELEBA_DIR, 'train')\n",
    "ORIGINAL_DIR = os.path.join(TRAIN_DIR, 'original')\n",
    "MASK_DIR = os.path.join(TRAIN_DIR, 'mask')\n",
    "\n",
    "original_list = os.listdir(ORIGINAL_DIR)\n",
    "mask_list = os.listdir(MASK_DIR)\n",
    "\n",
    "VAL_DIR = os.path.join(CELEBA_DIR, 'val')\n",
    "V_ORIGINAL_DIR = os.path.join(VAL_DIR, 'original')\n",
    "V_MASK_DIR = os.path.join(VAL_DIR, 'mask')\n",
    "\n",
    "v_mask_list = os.listdir(V_MASK_DIR)\n",
    "\n",
    "\n",
    "original_list = [a for a in original_list if a[-4:] == '.jpg' ]\n",
    "mask_list = [a for a in mask_list if a[-4:] == '.bmp']\n",
    "\n",
    "v_mask_list = [a for a in v_mask_list if a[-4:] == '.bmp']\n",
    "\n",
    "\n",
    "print(\"Originals: \", len(original_list))\n",
    "print(\"Masks: \", len(mask_list))"
   ]
  },
  {
   "cell_type": "code",
   "execution_count": 23,
   "metadata": {},
   "outputs": [],
   "source": [
    "original_path = os.path.join(ORIGINAL_DIR, original_list[0])\n",
    "mask_path = os.path.join(MASK_DIR, mask_list[0])\n",
    "\n",
    "original_array = pdfd.utils.open_image_as_nparray(original_path)\n",
    "mask_array = pdfd.utils.open_image_as_nparray(mask_path)"
   ]
  },
  {
   "cell_type": "code",
   "execution_count": 24,
   "metadata": {},
   "outputs": [
    {
     "name": "stdout",
     "output_type": "stream",
     "text": [
      "(218, 178)\n",
      "(218, 178)\n"
     ]
    },
    {
     "data": {
      "image/png": "[encoded data removed]",
      "text/plain": [
       "<Figure size 432x288 with 2 Axes>"
      ]
     },
     "metadata": {},
     "output_type": "display_data"
    }
   ],
   "source": [
    "mask_shell = pdfd.utils.dig_inside(mask_array, [0, 128, 255])\n",
    "print(mask_array.shape)\n",
    "print(mask_shell.shape)\n",
    "pdfd.utils.compare_plots(main_title=\"Dig Inside\", imgs=[mask_array, mask_shell], titles=['before', 'after'])"
   ]
  },
  {
   "cell_type": "code",
   "execution_count": 25,
   "metadata": {},
   "outputs": [],
   "source": [
    "# pdfd.utils.extract_coordinates(mask_shell, classes=['face'], values=[128])\n",
    "# print(pdfd.utils.load_coordiantes_from_mask(mask_path, classes=['face'], values=[128]))\n",
    "da = pdfd.utils.load_info_from_mask(MASK_DIR, mask_list[0], classes=['face'], values=[128])"
   ]
  },
  {
   "cell_type": "code",
   "execution_count": 26,
   "metadata": {},
   "outputs": [
    {
     "name": "stdout",
     "output_type": "stream",
     "text": [
      "136137.bmp\n"
     ]
    }
   ],
   "source": [
    "print(mask_list[0])"
   ]
  },
  {
   "cell_type": "code",
   "execution_count": 27,
   "metadata": {
    "scrolled": true
   },
   "outputs": [],
   "source": [
    "pdfd.utils.extend_info_into_json(da, 'abcd.json')"
   ]
  },
  {
   "cell_type": "code",
   "execution_count": 28,
   "metadata": {},
   "outputs": [
    {
     "name": "stderr",
     "output_type": "stream",
     "text": [
      "100%|██████████| 3220/3220 [05:09<00:00, 10.40it/s]\n"
     ]
    }
   ],
   "source": [
    "import tqdm\n",
    "\n",
    "for mask in tqdm.tqdm(mask_list):\n",
    "    _data = pdfd.utils.load_info_from_mask(MASK_DIR, mask, classes=['face'], values=[128])    \n",
    "    json_dir = os.path.join(TRAIN_DIR, 'json')\n",
    "    pdfd.utils.extend_info_into_json(_data, os.path.join(json_dir, mask.replace('bmp', 'json')))"
   ]
  },
  {
   "cell_type": "code",
   "execution_count": null,
   "metadata": {},
   "outputs": [],
   "source": [
    "# import tqdm\n",
    "\n",
    "# for mask in tqdm.tqdm(mask_list):\n",
    "#    _data = pdfd.utils.load_info_from_mask(MASK_DIR, mask, classes=['face'], values=[128])    \n",
    "#    pdfd.utils.extend_info_into_json(_data, os.path.join(TRAIN_DIR, 'mask_region_data.json'))\n"
   ]
  },
  {
   "cell_type": "code",
   "execution_count": 49,
   "metadata": {},
   "outputs": [
    {
     "name": "stderr",
     "output_type": "stream",
     "text": [
      "100%|██████████| 3220/3220 [00:00<00:00, 13180.25it/s]\n"
     ]
    }
   ],
   "source": [
    "import json \n",
    "\n",
    "json_list = os.listdir(json_dir)\n",
    "\n",
    "json_path = os.path.join(TRAIN_DIR, 'region_data.json')\n",
    "\n",
    "pdfd.utils.extend_info_into_json({}, json_path)\n",
    "with open(json_path, 'r', encoding=\"utf-8\") as f:\n",
    "    _data = json.load(f)\n",
    "\n",
    "for data in tqdm.tqdm(json_list):\n",
    "    _json_path = os.path.join(json_dir, data)\n",
    "    with open(_json_path, 'r', encoding=\"utf-8\") as f:\n",
    "        _data.update(json.load(f))\n",
    "        \n",
    "pdfd.utils.extend_info_into_json(_data, json_path)\n",
    "    \n",
    "    "
   ]
  },
  {
   "cell_type": "markdown",
   "metadata": {},
   "source": [
    "---\n"
   ]
  },
  {
   "cell_type": "code",
   "execution_count": null,
   "metadata": {},
   "outputs": [],
   "source": [
    "import tqdm\n",
    "\n",
    "for mask in tqdm.tqdm(mask_list):\n",
    "    _data = pdfd.utils.load_info_from_mask(MASK_DIR, mask, classes=['face'], values=[128])    \n",
    "    json_dir = os.path.join(TRAIN_DIR, 'json')\n",
    "    pdfd.utils.extend_info_into_json(_data, os.path.join(json_dir, mask.replace('bmp', 'json')))"
   ]
  },
  {
   "cell_type": "code",
   "execution_count": 53,
   "metadata": {},
   "outputs": [
    {
     "name": "stderr",
     "output_type": "stream",
     "text": [
      "100%|██████████| 3220/3220 [00:00<00:00, 12905.48it/s]\n"
     ]
    }
   ],
   "source": [
    "import json\n",
    "\n",
    "val_json_dir = os.path.join(VAL_DIR, 'json')\n",
    "\n",
    "json_list = os.listdir(json_dir)\n",
    "json_path = os.path.join(V_ORIGINAL_DIR, 'region_data.json')\n",
    "\n",
    "pdfd.utils.extend_info_into_json({}, json_path)\n",
    "with open(json_path, 'r', encoding=\"utf-8\") as f:\n",
    "    _data = json.load(f)\n",
    "    \n",
    "for data in tqdm.tqdm(json_list):\n",
    "    _json_path = os.path.join(json_dir, data)\n",
    "    with open(_json_path, 'r', encoding=\"utf-8\") as f:\n",
    "        _data.update(json.load(f))\n",
    "        \n",
    "pdfd.utils.extend_info_into_json(_data, json_path)"
   ]
  },
  {
   "cell_type": "code",
   "execution_count": null,
   "metadata": {},
   "outputs": [],
   "source": []
  }
 ],
 "metadata": {
  "file_extension": ".py",
  "kernelspec": {
   "display_name": "Python 3",
   "language": "python",
   "name": "python3"
  },
  "language_info": {
   "codemirror_mode": {
    "name": "ipython",
    "version": 3
   },
   "file_extension": ".py",
   "mimetype": "text/x-python",
   "name": "python",
   "nbconvert_exporter": "python",
   "pygments_lexer": "ipython3",
   "version": "3.5.2"
  },
  "mimetype": "text/x-python",
  "name": "python",
  "npconvert_exporter": "python",
  "pygments_lexer": "ipython3",
  "version": 3
 },
 "nbformat": 4,
 "nbformat_minor": 2
}
