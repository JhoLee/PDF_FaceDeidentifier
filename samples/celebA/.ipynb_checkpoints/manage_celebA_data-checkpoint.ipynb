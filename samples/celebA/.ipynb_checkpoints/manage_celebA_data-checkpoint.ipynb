{
 "cells": [
  {
   "cell_type": "code",
   "execution_count": 1,
   "metadata": {
    "collapsed": true
   },
   "outputs": [],
   "source": [
    "import os\n",
    "import sys\n",
    "\n",
    "ROOT_DIR = os.path.realpath('../..')\n",
    "\n",
    "if ROOT_DIR not in sys.path:\n",
    "    sys.path.insert(0, ROOT_DIR)"
   ]
  },
  {
   "cell_type": "code",
   "execution_count": 2,
   "metadata": {},
   "outputs": [],
   "source": [
    "import os\n",
    "import random\n",
    "\n",
    "import pdfd.utils\n"
   ]
  },
  {
   "cell_type": "code",
   "execution_count": 3,
   "metadata": {},
   "outputs": [
    {
     "name": "stdout",
     "output_type": "stream",
     "text": [
      "Originals:  3556\n",
      "Masks:  3556\n"
     ]
    }
   ],
   "source": [
    "DATASET_DIR = os.path.join(ROOT_DIR, 'dataset')\n",
    "CELEBA_DIR = os.path.join(DATASET_DIR, 'celebA')\n",
    "ORIGINAL_DIR = os.path.join(CELEBA_DIR, 'original')\n",
    "MASK_DIR = os.path.join(CELEBA_DIR, 'mask')\n",
    "\n",
    "original_list = os.listdir(ORIGINAL_DIR)\n",
    "mask_list = os.listdir(MASK_DIR)\n",
    "\n",
    "\n",
    "\n",
    "print(\"Originals: \", len(original_list))\n",
    "print(\"Masks: \", len(mask_list))"
   ]
  },
  {
   "cell_type": "code",
   "execution_count": 4,
   "metadata": {
    "collapsed": true
   },
   "outputs": [],
   "source": [
    "original_path = os.path.join(ORIGINAL_DIR, original_list[0])\n",
    "mask_path = os.path.join(MASK_DIR, mask_list[0])\n",
    "\n",
    "original_array = pdfd.utils.open_image_as_nparray(original_path)\n",
    "mask_array = pdfd.utils.open_image_as_nparray(mask_path)"
   ]
  },
  {
   "cell_type": "code",
   "execution_count": 5,
   "metadata": {},
   "outputs": [
    {
     "name": "stdout",
     "output_type": "stream",
     "text": [
      "(218, 178)\n",
      "(218, 178)\n"
     ]
    },
    {
     "data": {
      "image/png": "[encoded data removed]",
      "text/plain": [
       "<matplotlib.figure.Figure at 0x7f57b23f0b38>"
      ]
     },
     "metadata": {},
     "output_type": "display_data"
    }
   ],
   "source": [
    "mask_shell = pdfd.utils.dig_inside(mask_array, [0, 128, 255])\n",
    "print(mask_array.shape)\n",
    "print(mask_shell.shape)\n",
    "pdfd.utils.compare_plots(main_title=\"Dig Inside\", imgs=[mask_array, mask_shell], titles=['before', 'after'])"
   ]
  },
  {
   "cell_type": "code",
   "execution_count": 6,
   "metadata": {},
   "outputs": [
    {
     "name": "stdout",
     "output_type": "stream",
     "text": [
      "{'face': {'y': [160, 75, 76, 77, 72, 73, 74, 78, 79, 69, 70, 71, 80, 69, 81, 67, 68, 81, 66, 81, 66, 81, 65, 81, 65, 82, 63, 64, 83, 84, 85, 86, 87, 88, 89, 90, 91, 92, 93, 94, 95, 96, 97, 98, 99, 100, 101, 102, 103, 104, 105, 106, 107, 63, 108, 63, 109, 110, 63, 111, 62, 112, 113, 62, 114, 62, 115, 62, 116, 117, 62, 118, 119, 62, 120, 62, 121, 122, 62, 122, 62, 122, 62, 123, 62, 124, 62, 125, 62, 125, 62, 125, 61, 125, 61, 126, 61, 126, 61, 126, 61, 127, 61, 127, 61, 128, 61, 129, 61, 129, 61, 130, 61, 131, 61, 132, 61, 133, 61, 134, 61, 135, 61, 136, 61, 137, 61, 138, 139, 61, 139, 61, 140, 61, 139, 61, 139, 61, 139, 61, 139, 61, 138, 61, 138, 60, 138, 60, 138, 60, 137, 61, 137, 61, 138, 61, 138, 61, 138, 61, 138, 61, 138, 61, 139, 61, 140, 61, 140, 61, 141, 61, 141, 61, 142, 61, 142, 62, 142, 62, 143, 62, 143, 62, 142, 62, 142, 62, 142, 62, 141, 63, 140, 63, 139, 64, 139, 64, 138, 65, 137, 65, 136, 65, 136, 66, 134, 135, 67, 133, 67, 132, 68, 131, 69, 130, 69, 129, 69, 129, 69, 127, 128, 70, 126, 71, 125, 71, 124, 72, 123, 72, 122, 73, 122, 73, 120, 121, 74, 119, 75, 118, 75, 117, 75, 116, 75, 115, 76, 77, 112, 113, 114, 78, 111, 79, 109, 110, 80, 108, 81, 106, 107, 82, 103, 104, 105, 83, 84, 101, 102, 85, 86, 87, 88, 89, 90, 91, 92, 93, 94, 95, 96, 97, 98, 99, 100], 'x': [55, 66, 66, 66, 67, 67, 67, 67, 67, 68, 68, 68, 68, 69, 69, 70, 70, 70, 71, 71, 72, 72, 73, 73, 74, 74, 75, 75, 75, 75, 75, 75, 75, 75, 75, 75, 75, 75, 75, 75, 75, 75, 75, 75, 75, 75, 75, 75, 75, 75, 75, 75, 75, 76, 76, 77, 77, 77, 78, 78, 79, 79, 79, 80, 80, 81, 81, 82, 82, 82, 83, 83, 83, 84, 84, 85, 85, 85, 86, 86, 87, 87, 88, 88, 89, 89, 90, 90, 91, 91, 92, 92, 93, 93, 94, 94, 95, 95, 96, 96, 97, 97, 98, 98, 99, 99, 100, 100, 101, 101, 102, 102, 103, 103, 104, 104, 105, 105, 106, 106, 107, 107, 108, 108, 109, 109, 110, 110, 110, 111, 111, 112, 112, 113, 113, 114, 114, 115, 115, 116, 116, 117, 117, 118, 118, 119, 119, 120, 120, 121, 121, 122, 122, 123, 123, 124, 124, 125, 125, 126, 126, 127, 127, 128, 128, 129, 129, 130, 130, 131, 131, 132, 132, 133, 133, 134, 134, 135, 135, 136, 136, 137, 137, 138, 138, 139, 139, 140, 140, 141, 141, 142, 142, 143, 143, 144, 144, 145, 145, 146, 146, 147, 147, 148, 148, 149, 149, 149, 150, 150, 151, 151, 152, 152, 153, 153, 154, 154, 155, 155, 156, 156, 156, 157, 157, 158, 158, 159, 159, 160, 160, 161, 161, 162, 162, 163, 163, 163, 164, 164, 165, 165, 166, 166, 167, 167, 168, 168, 169, 169, 169, 169, 169, 170, 170, 171, 171, 171, 172, 172, 173, 173, 173, 174, 174, 174, 174, 175, 175, 175, 175, 176, 176, 176, 176, 176, 176, 176, 176, 176, 176, 176, 176, 176, 176, 176, 176]}}\n"
     ]
    }
   ],
   "source": [
    "# pdfd.utils.extract_coordinates(mask_shell, classes=['face'], values=[128])\n",
    "# print(pdfd.utils.load_coordiantes_from_mask(mask_path, classes=['face'], values=[128]))\n",
    "print(pdfd.utils.load_info_from_mask(mask_path, classes=['face'], values=[128]))"
   ]
  },
  {
   "cell_type": "code",
   "execution_count": null,
   "metadata": {
    "collapsed": true
   },
   "outputs": [],
   "source": []
  },
  {
   "cell_type": "code",
   "execution_count": null,
   "metadata": {
    "collapsed": true
   },
   "outputs": [],
   "source": []
  }
 ],
 "metadata": {
  "file_extension": ".py",
  "kernelspec": {
   "display_name": "Python 3",
   "language": "python",
   "name": "python3"
  },
  "language_info": {
   "codemirror_mode": {
    "name": "ipython",
    "version": 3
   },
   "file_extension": ".py",
   "mimetype": "text/x-python",
   "name": "python",
   "nbconvert_exporter": "python",
   "pygments_lexer": "ipython3",
   "version": "3.5.2"
  },
  "mimetype": "text/x-python",
  "name": "python",
  "npconvert_exporter": "python",
  "pygments_lexer": "ipython3",
  "version": 3
 },
 "nbformat": 4,
 "nbformat_minor": 2
}
